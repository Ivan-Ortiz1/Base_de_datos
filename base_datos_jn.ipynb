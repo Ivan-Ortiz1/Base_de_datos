{
 "cells": [
  {
   "cell_type": "markdown",
   "id": "d44c4fb6",
   "metadata": {},
   "source": [
    "Se importan las librerías necesarias para manejo de APIs, scraping, base de datos y variables de entorno."
   ]
  },
  {
   "cell_type": "code",
   "execution_count": 4,
   "id": "2d7e3e4f",
   "metadata": {},
   "outputs": [
    {
     "ename": "ModuleNotFoundError",
     "evalue": "No module named 'requests'",
     "output_type": "error",
     "traceback": [
      "\u001b[1;31m---------------------------------------------------------------------------\u001b[0m",
      "\u001b[1;31mModuleNotFoundError\u001b[0m                       Traceback (most recent call last)",
      "Cell \u001b[1;32mIn[4], line 3\u001b[0m\n\u001b[0;32m      1\u001b[0m \u001b[38;5;28;01mimport\u001b[39;00m\u001b[38;5;250m \u001b[39m\u001b[38;5;21;01mos\u001b[39;00m\n\u001b[0;32m      2\u001b[0m \u001b[38;5;28;01mimport\u001b[39;00m\u001b[38;5;250m \u001b[39m\u001b[38;5;21;01mtime\u001b[39;00m\n\u001b[1;32m----> 3\u001b[0m \u001b[38;5;28;01mimport\u001b[39;00m\u001b[38;5;250m \u001b[39m\u001b[38;5;21;01mrequests\u001b[39;00m\n\u001b[0;32m      4\u001b[0m \u001b[38;5;28;01mimport\u001b[39;00m\u001b[38;5;250m \u001b[39m\u001b[38;5;21;01msqlite3\u001b[39;00m\n\u001b[0;32m      5\u001b[0m \u001b[38;5;28;01mfrom\u001b[39;00m\u001b[38;5;250m \u001b[39m\u001b[38;5;21;01mbs4\u001b[39;00m\u001b[38;5;250m \u001b[39m\u001b[38;5;28;01mimport\u001b[39;00m BeautifulSoup\n",
      "\u001b[1;31mModuleNotFoundError\u001b[0m: No module named 'requests'"
     ]
    }
   ],
   "source": [
    "import os\n",
    "import time\n",
    "import requests\n",
    "import sqlite3\n",
    "from bs4 import BeautifulSoup\n",
    "from dotenv import load_dotenv\n"
   ]
  },
  {
   "cell_type": "markdown",
   "id": "082cc8ec",
   "metadata": {},
   "source": [
    "Se carga la API key desde un archivo .env y se configuran URLs base y cabeceras para scraping."
   ]
  },
  {
   "cell_type": "code",
   "execution_count": null,
   "id": "32b4de80",
   "metadata": {},
   "outputs": [],
   "source": [
    "# Cargar variables de entorno\n",
    "load_dotenv()\n",
    "API_KEY = os.getenv(\"GOOGLE_BOOKS_API_KEY\")\n",
    "\n",
    "# Constantes\n",
    "BASE_URL = \"http://books.toscrape.com/\"\n",
    "CATALOGUE_URL = BASE_URL + \"catalogue/\"\n",
    "headers = {\"User-Agent\": \"Mozilla/5.0\"}\n",
    "cache_autores = {}\n"
   ]
  },
  {
   "cell_type": "markdown",
   "id": "d9a46b79",
   "metadata": {},
   "source": [
    "Se conecta a la base de datos SQLite y se crean las tablas necesarias para almacenar libros, autores y géneros."
   ]
  },
  {
   "cell_type": "code",
   "execution_count": null,
   "id": "4ba6578b",
   "metadata": {},
   "outputs": [],
   "source": [
    "conn = sqlite3.connect(\"libros.db\")\n",
    "cursor = conn.cursor()\n",
    "\n",
    "cursor.executescript(\"\"\"\n",
    "CREATE TABLE IF NOT EXISTS autores (\n",
    "    id INTEGER PRIMARY KEY AUTOINCREMENT NOT NULL,\n",
    "    nombre TEXT UNIQUE NOT NULL\n",
    ");\n",
    "\n",
    "CREATE TABLE IF NOT EXISTS generos (\n",
    "    id INTEGER PRIMARY KEY AUTOINCREMENT NOT NULL,\n",
    "    nombre TEXT UNIQUE NOT NULL\n",
    ");\n",
    "\n",
    "CREATE TABLE IF NOT EXISTS libros (\n",
    "    id INTEGER PRIMARY KEY AUTOINCREMENT NOT NULL,\n",
    "    titulo TEXT NOT NULL,\n",
    "    precio TEXT NOT NULL,\n",
    "    stock TEXT NOT NULL,\n",
    "    url TEXT NOT NULL,\n",
    "    rating INTEGER NOT NULL,\n",
    "    genero_id INTEGER NOT NULL,\n",
    "    FOREIGN KEY (genero_id) REFERENCES generos(id)\n",
    ");\n",
    "\n",
    "CREATE TABLE IF NOT EXISTS autor_libro (\n",
    "    autor_id INTEGER NOT NULL,\n",
    "    libro_id INTEGER NOT NULL,\n",
    "    PRIMARY KEY (autor_id, libro_id),\n",
    "    FOREIGN KEY (autor_id) REFERENCES autores(id),\n",
    "    FOREIGN KEY (libro_id) REFERENCES libros(id)\n",
    ");\n",
    "\"\"\")\n"
   ]
  },
  {
   "cell_type": "markdown",
   "id": "1bcf28c6",
   "metadata": {},
   "source": [
    "Consulta a la API de Google Books para obtener el autor de un libro a partir del título."
   ]
  },
  {
   "cell_type": "code",
   "execution_count": null,
   "id": "39ad0046",
   "metadata": {},
   "outputs": [],
   "source": [
    "def buscar_autor_google_books(titulo):\n",
    "    if titulo in cache_autores:\n",
    "        return cache_autores[titulo]\n",
    "\n",
    "    url = \"https://www.googleapis.com/books/v1/volumes\"\n",
    "    params = {\"q\": f\"intitle:{titulo}\", \"key\": API_KEY, \"maxResults\": 1}\n",
    "\n",
    "    try:\n",
    "        response = requests.get(url, params=params, timeout=5)\n",
    "        response.raise_for_status()\n",
    "        data = response.json()\n",
    "        if \"items\" in data:\n",
    "            volumen = data[\"items\"][0][\"volumeInfo\"]\n",
    "            autores = volumen.get(\"authors\", [\"Desconocido\"])\n",
    "            autor = \", \".join(autores)\n",
    "        else:\n",
    "            autor = \"No encontrado\"\n",
    "    except Exception:\n",
    "        autor = \"Error API\"\n",
    "\n",
    "    cache_autores[titulo] = autor\n",
    "    time.sleep(1)\n",
    "    return autor\n"
   ]
  },
  {
   "cell_type": "markdown",
   "id": "49b0815c",
   "metadata": {},
   "source": [
    "Obtiene género y stock de un libro haciendo scraping del sitio web.\n",
    "\n"
   ]
  },
  {
   "cell_type": "code",
   "execution_count": 5,
   "id": "4d50f192",
   "metadata": {},
   "outputs": [],
   "source": [
    "def obtener_detalle_libro(url_relativa):\n",
    "    url_libro = CATALOGUE_URL + url_relativa.lstrip(\"./\")\n",
    "    try:\n",
    "        detalle = requests.get(url_libro, headers=headers, timeout=5)\n",
    "        detalle.raise_for_status()\n",
    "        soup = BeautifulSoup(detalle.text, \"html.parser\")\n",
    "\n",
    "        breadcrumb = soup.select(\"ul.breadcrumb li a\")\n",
    "        genero = breadcrumb[2].text.strip() if len(breadcrumb) >= 3 else \"Desconocido\"\n",
    "\n",
    "        tabla = soup.find(\"table\", class_=\"table table-striped\")\n",
    "        stock = (\n",
    "            tabla.find_all(\"tr\")[5].find(\"td\").text.strip() if tabla else \"Sin stock\"\n",
    "        )\n",
    "    except Exception:\n",
    "        genero = \"Desconocido\"\n",
    "        stock = \"Sin stock\"\n",
    "\n",
    "    return genero, stock, url_libro\n"
   ]
  },
  {
   "cell_type": "markdown",
   "id": "206e3dc0",
   "metadata": {},
   "source": [
    "Insertan libros, autores y géneros en la base de datos, evitando duplicados."
   ]
  },
  {
   "cell_type": "code",
   "execution_count": 6,
   "id": "00ffefcd",
   "metadata": {},
   "outputs": [],
   "source": [
    "def obtener_o_insertar_id(nombre, tabla):\n",
    "    cursor.execute(f\"SELECT id FROM {tabla} WHERE nombre = ?\", (nombre,))\n",
    "    resultado = cursor.fetchone()\n",
    "    if resultado:\n",
    "        return resultado[0]\n",
    "    cursor.execute(f\"INSERT INTO {tabla} (nombre) VALUES (?)\", (nombre,))\n",
    "    return cursor.lastrowid\n",
    "\n",
    "def insertar_libro(autor_str, titulo, precio, genero_str, stock, url, rating):\n",
    "    cursor.execute(\"SELECT id FROM libros WHERE titulo = ? AND url = ?\", (titulo, url))\n",
    "    if cursor.fetchone():\n",
    "        print(f\"🔁 Libro duplicado ignorado: {titulo}\")\n",
    "        return\n",
    "\n",
    "    genero_id = obtener_o_insertar_id(genero_str, \"generos\")\n",
    "\n",
    "    cursor.execute(\"\"\"\n",
    "        INSERT INTO libros (titulo, precio, stock, url, rating, genero_id)\n",
    "        VALUES (?, ?, ?, ?, ?, ?)\n",
    "    \"\"\", (titulo, precio, stock, url, rating, genero_id))\n",
    "    libro_id = cursor.lastrowid\n",
    "\n",
    "    for nombre_autor in [a.strip() for a in autor_str.split(\",\")]:\n",
    "        autor_id = obtener_o_insertar_id(nombre_autor, \"autores\")\n",
    "        cursor.execute(\"\"\"\n",
    "            INSERT OR IGNORE INTO autor_libro (autor_id, libro_id)\n",
    "            VALUES (?, ?)\n",
    "        \"\"\", (autor_id, libro_id))\n",
    "\n",
    "    conn.commit()\n",
    "    print(f\"✅ Insertado: {titulo}\")\n",
    "\n"
   ]
  },
  {
   "cell_type": "markdown",
   "id": "b6cde7d1",
   "metadata": {},
   "source": [
    "Extraen categorías y libros por página haciendo scraping paginado.\n",
    "\n"
   ]
  },
  {
   "cell_type": "code",
   "execution_count": 7,
   "id": "5fe2cd80",
   "metadata": {},
   "outputs": [],
   "source": [
    "RATING_MAP = {\"One\": 1, \"Two\": 2, \"Three\": 3, \"Four\": 4, \"Five\": 5}\n",
    "\n",
    "def obtener_categorias():\n",
    "    categorias = {}\n",
    "    try:\n",
    "        response = requests.get(BASE_URL, headers=headers, timeout=10)\n",
    "        response.raise_for_status()\n",
    "        soup = BeautifulSoup(response.text, \"html.parser\")\n",
    "        links = soup.select(\"div.side_categories ul li ul li a\")\n",
    "        for link in links:\n",
    "            nombre = link.text.strip()\n",
    "            href = link.get(\"href\").replace(\"index.html\", \"\")\n",
    "            categorias[nombre] = BASE_URL + href\n",
    "    except Exception as e:\n",
    "        print(\"⚠️ Error al obtener categorías:\", e)\n",
    "    return categorias\n",
    "\n",
    "def obtener_libros_de_categoria(nombre_categoria, url_categoria):\n",
    "    libros = []\n",
    "    pagina = 1\n",
    "\n",
    "    while True:\n",
    "        url_pagina = (\n",
    "            url_categoria + f\"page-{pagina}.html\"\n",
    "            if pagina > 1\n",
    "            else url_categoria + \"index.html\"\n",
    "        )\n",
    "        try:\n",
    "            response = requests.get(url_pagina, headers=headers, timeout=10)\n",
    "            if response.status_code == 404:\n",
    "                break\n",
    "            response.raise_for_status()\n",
    "        except Exception as e:\n",
    "            print(f\"[!] Error en {nombre_categoria}, página {pagina}: {e}\")\n",
    "            break\n",
    "\n",
    "        soup = BeautifulSoup(response.text, \"html.parser\")\n",
    "        articulos = soup.find_all(\"article\", class_=\"product_pod\")\n",
    "        if not articulos:\n",
    "            break\n",
    "\n",
    "        for libro in articulos:\n",
    "            rating_texto = libro.find(\"p\", class_=\"star-rating\")[\"class\"][1]\n",
    "            rating_numero = RATING_MAP.get(rating_texto, 0)\n",
    "            titulo = libro.h3.a[\"title\"]\n",
    "            precio = libro.find(\"p\", class_=\"price_color\").text.replace(\"Â\", \"\")\n",
    "            url_relativa = libro.h3.a[\"href\"]\n",
    "\n",
    "            genero, stock, url_completo = obtener_detalle_libro(url_relativa)\n",
    "            autor = buscar_autor_google_books(titulo)\n",
    "\n",
    "            libros.append(\n",
    "                (autor, titulo, precio, genero, stock, url_completo, rating_numero)\n",
    "            )\n",
    "\n",
    "        pagina += 1\n",
    "\n",
    "    return libros\n"
   ]
  },
  {
   "cell_type": "markdown",
   "id": "1c13266c",
   "metadata": {},
   "source": [
    "Se ejecuta el scraping de todas las categorías y se insertan los libros en la base de datos."
   ]
  },
  {
   "cell_type": "code",
   "execution_count": 8,
   "id": "87b8c1b9",
   "metadata": {},
   "outputs": [
    {
     "name": "stdout",
     "output_type": "stream",
     "text": [
      "⚠️ Error al obtener categorías: name 'requests' is not defined\n",
      "\n",
      "✅ Todos los libros insertados correctamente.\n"
     ]
    }
   ],
   "source": [
    "categorias = obtener_categorias()\n",
    "\n",
    "for nombre, url_categoria in categorias.items():\n",
    "    print(f\"\\n📚 Categoría: {nombre}\")\n",
    "    libros = obtener_libros_de_categoria(nombre, url_categoria)\n",
    "    for libro in libros:\n",
    "        insertar_libro(*libro)\n",
    "\n",
    "print(\"\\n✅ Todos los libros insertados correctamente.\")\n"
   ]
  },
  {
   "cell_type": "markdown",
   "id": "efe8fe3f",
   "metadata": {},
   "source": [
    "Exporta los resultados filtrados a un archivo CSV."
   ]
  },
  {
   "cell_type": "code",
   "execution_count": 9,
   "id": "74c54de5",
   "metadata": {},
   "outputs": [],
   "source": [
    "import csv\n",
    "\n",
    "def exportar_a_csv(libros):\n",
    "    nombre_archivo = \"libros_filtrados.csv\"\n",
    "    with open(nombre_archivo, mode=\"w\", newline=\"\", encoding=\"utf-8\") as f:\n",
    "        writer = csv.writer(f)\n",
    "        writer.writerow([\"Título\", \"Precio\", \"Stock\", \"Rating\", \"URL\", \"Género\", \"Autor(es)\"])\n",
    "        for libro in libros:\n",
    "            writer.writerow(libro)\n",
    "    print(f\"✅ Resultados exportados correctamente a '{os.path.abspath(nombre_archivo)}'\")\n"
   ]
  },
  {
   "cell_type": "markdown",
   "id": "d8321e44",
   "metadata": {},
   "source": []
  },
  {
   "cell_type": "code",
   "execution_count": null,
   "id": "d9f44d18",
   "metadata": {},
   "outputs": [
    {
     "ename": "NameError",
     "evalue": "name 'sqlite3' is not defined",
     "output_type": "error",
     "traceback": [
      "\u001b[1;31m---------------------------------------------------------------------------\u001b[0m",
      "\u001b[1;31mNameError\u001b[0m                                 Traceback (most recent call last)",
      "Cell \u001b[1;32mIn[10], line 120\u001b[0m\n\u001b[0;32m    116\u001b[0m     conn\u001b[38;5;241m.\u001b[39mclose()\n\u001b[0;32m    119\u001b[0m \u001b[38;5;28;01mif\u001b[39;00m \u001b[38;5;18m__name__\u001b[39m \u001b[38;5;241m==\u001b[39m \u001b[38;5;124m\"\u001b[39m\u001b[38;5;124m__main__\u001b[39m\u001b[38;5;124m\"\u001b[39m:\n\u001b[1;32m--> 120\u001b[0m     \u001b[43mmain\u001b[49m\u001b[43m(\u001b[49m\u001b[43m)\u001b[49m\n",
      "Cell \u001b[1;32mIn[10], line 95\u001b[0m, in \u001b[0;36mmain\u001b[1;34m()\u001b[0m\n\u001b[0;32m     94\u001b[0m \u001b[38;5;28;01mdef\u001b[39;00m\u001b[38;5;250m \u001b[39m\u001b[38;5;21mmain\u001b[39m():\n\u001b[1;32m---> 95\u001b[0m     conn \u001b[38;5;241m=\u001b[39m \u001b[43mconectar_db\u001b[49m\u001b[43m(\u001b[49m\u001b[43m)\u001b[49m\n\u001b[0;32m     96\u001b[0m     cursor \u001b[38;5;241m=\u001b[39m conn\u001b[38;5;241m.\u001b[39mcursor()\n\u001b[0;32m     98\u001b[0m     \u001b[38;5;28;01mwhile\u001b[39;00m \u001b[38;5;28;01mTrue\u001b[39;00m:\n",
      "Cell \u001b[1;32mIn[10], line 2\u001b[0m, in \u001b[0;36mconectar_db\u001b[1;34m()\u001b[0m\n\u001b[0;32m      1\u001b[0m \u001b[38;5;28;01mdef\u001b[39;00m\u001b[38;5;250m \u001b[39m\u001b[38;5;21mconectar_db\u001b[39m():\n\u001b[1;32m----> 2\u001b[0m     \u001b[38;5;28;01mreturn\u001b[39;00m \u001b[43msqlite3\u001b[49m\u001b[38;5;241m.\u001b[39mconnect(\u001b[38;5;124m\"\u001b[39m\u001b[38;5;124mlibros.db\u001b[39m\u001b[38;5;124m\"\u001b[39m)\n",
      "\u001b[1;31mNameError\u001b[0m: name 'sqlite3' is not defined"
     ]
    }
   ],
   "source": [
    "def conectar_db():\n",
    "    return sqlite3.connect(\"libros.db\")\n",
    "\n",
    "\n",
    "def mostrar_menu():\n",
    "    print(\"\\n=== FILTROS DISPONIBLES ===\")\n",
    "    print(\"1. Filtrar por rating\")\n",
    "    print(\"2. Filtrar por precio máximo\")\n",
    "    print(\"3. Filtrar por género\")\n",
    "    print(\"4. Filtrar por autor\")\n",
    "    print(\"5. Filtrar por disponibilidad\")\n",
    "    print(\"6. Ver todos los libros\")\n",
    "    print(\"0. Salir\")\n",
    "\n",
    "\n",
    "def construir_query(opcion):\n",
    "    query_base = \"\"\"\n",
    "    SELECT libros.titulo, libros.precio, libros.stock, libros.rating,\n",
    "           libros.url, generos.nombre AS genero, GROUP_CONCAT(autores.nombre, ', ') AS autores\n",
    "    FROM libros\n",
    "    JOIN generos ON libros.genero_id = generos.id\n",
    "    JOIN autor_libro ON libros.id = autor_libro.libro_id\n",
    "    JOIN autores ON autores.id = autor_libro.autor_id\n",
    "    \"\"\"\n",
    "    condiciones = []\n",
    "    parametros = []\n",
    "\n",
    "    if opcion == \"1\":\n",
    "        while True:\n",
    "            rating = input(\" Ingrese rating (1-5): \").strip()\n",
    "            if rating.isdigit() and 1 <= int(rating) <= 5:\n",
    "                break\n",
    "            print(\"Rating inválido. Debe ser un número del 1 al 5.\")\n",
    "        condiciones.append(\"libros.rating = ?\")\n",
    "        parametros.append(rating)\n",
    "\n",
    "    elif opcion == \"2\":\n",
    "        while True:\n",
    "            precio_max = input(\" Ingrese precio máximo (sin símbolo): \").strip()\n",
    "            try:\n",
    "                float(precio_max)\n",
    "                break\n",
    "            except ValueError:\n",
    "                print(\"Ingrese un número válido.\")\n",
    "        condiciones.append(\"CAST(SUBSTR(libros.precio, 2) AS REAL) <= ?\")\n",
    "        parametros.append(precio_max)\n",
    "\n",
    "    elif opcion == \"3\":\n",
    "        genero = input(\"Ingrese nombre del género: \").strip()\n",
    "        condiciones.append(\"generos.nombre LIKE ?\")\n",
    "        parametros.append(f\"%{genero}%\")\n",
    "\n",
    "    elif opcion == \"4\":\n",
    "        autor = input(\"Ingrese nombre del autor: \").strip()\n",
    "        condiciones.append(\"autores.nombre LIKE ?\")\n",
    "        parametros.append(f\"%{autor}%\")\n",
    "\n",
    "    elif opcion == \"5\":\n",
    "        condiciones.append(\"libros.stock NOT LIKE '%(0 available)%'\")\n",
    "\n",
    "    where_clause = f\"WHERE {' AND '.join(condiciones)}\" if condiciones else \"\"\n",
    "    query = f\"\"\"\n",
    "    {query_base}\n",
    "    {where_clause}\n",
    "    GROUP BY libros.id\n",
    "    ORDER BY libros.titulo;\n",
    "    \"\"\"\n",
    "    return query, parametros\n",
    "\n",
    "\n",
    "def mostrar_resultados(cursor):\n",
    "    libros = cursor.fetchall()\n",
    "    if not libros:\n",
    "        print(\"\\n📭 No se encontraron libros con ese filtro.\")\n",
    "        return\n",
    "\n",
    "    print(f\"\\nResultados encontrados: {len(libros)}\\n\")\n",
    "    for libro in libros:\n",
    "        titulo, precio, stock, rating, url, genero, autores = libro\n",
    "        print(\n",
    "            f\"Título: {titulo}\\nPrecio: {precio}\\nStock: {stock}\\n⭐ Rating: {rating}\"\n",
    "        )\n",
    "        print(\n",
    "            f\"Género: {genero}\\nAutor(es): {autores}\\nLink: {url}\\n{'-'*40}\"\n",
    "        )\n",
    "\n",
    "    exportar = (\n",
    "        input(\"\\n¿Desea exportar estos resultados a CSV? (s/n): \").strip().lower()\n",
    "    )\n",
    "    if exportar == \"s\":\n",
    "        exportar_a_csv(libros)\n",
    "\n",
    "\n",
    "def main():\n",
    "    conn = conectar_db()\n",
    "    cursor = conn.cursor()\n",
    "\n",
    "    while True:\n",
    "        mostrar_menu()\n",
    "        opcion = input(\"Seleccione una opción: \").strip()\n",
    "\n",
    "        if opcion == \"0\":\n",
    "            print(\"👋 Saliendo del visor...\")\n",
    "            break\n",
    "        elif opcion in {\"1\", \"2\", \"3\", \"4\", \"5\"}:\n",
    "            query, params = construir_query(opcion)\n",
    "            cursor.execute(query, params)\n",
    "            mostrar_resultados(cursor)\n",
    "        elif opcion == \"6\":\n",
    "            query, params = construir_query(\"6\")  # sin filtros\n",
    "            cursor.execute(query)\n",
    "            mostrar_resultados(cursor)\n",
    "        else:\n",
    "            print(\"❌ Opción no válida. Intente nuevamente.\")\n",
    "\n",
    "    conn.close()\n",
    "\n",
    "\n",
    "if __name__ == \"__main__\":\n",
    "    main()"
   ]
  },
  {
   "cell_type": "markdown",
   "id": "a713ee71",
   "metadata": {},
   "source": [
    "+------------------+           +----------------------+           +------------------+\n",
    "|     autores      |           |    autor_libro       |           |     libros       |\n",
    "+------------------+           +----------------------+           +------------------+\n",
    "| id (PK)          |<--------->| autor_id (PK, FK)    |<--------->| id (PK)          |\n",
    "| nombre (UNIQUE)  |           | libro_id (PK, FK)    |           | titulo           |\n",
    "+------------------+           +----------------------+           | precio           |\n",
    "                                                           | stock            |\n",
    "                                                           | url              |\n",
    "                                                           | rating           |\n",
    "                                                           | genero_id (FK)   |\n",
    "                                                           +------------------+\n",
    "                                                                   |\n",
    "                                                                   |\n",
    "                                                           +------------------+\n",
    "                                                           |     generos      |\n",
    "                                                           +------------------+\n",
    "                                                           | id (PK)          |\n",
    "                                                           | nombre (UNIQUE)  |\n",
    "                                                           +------------------+\n"
   ]
  },
  {
   "cell_type": "code",
   "execution_count": 11,
   "id": "d706d055",
   "metadata": {},
   "outputs": [
    {
     "ename": "SyntaxError",
     "evalue": "invalid syntax (2691234501.py, line 1)",
     "output_type": "error",
     "traceback": [
      "\u001b[1;36m  Cell \u001b[1;32mIn[11], line 1\u001b[1;36m\u001b[0m\n\u001b[1;33m    SELECT a.nombre, COUNT(al.libro_id) AS cantidad_libros\u001b[0m\n\u001b[1;37m           ^\u001b[0m\n\u001b[1;31mSyntaxError\u001b[0m\u001b[1;31m:\u001b[0m invalid syntax\n"
     ]
    }
   ],
   "source": [
    "SELECT a.nombre, COUNT(al.libro_id) AS cantidad_libros\n",
    "FROM autores a\n",
    "JOIN autor_libro al ON a.id = al.autor_id\n",
    "GROUP BY a.id\n",
    "ORDER BY cantidad_libros DESC\n",
    "LIMIT 5;\n"
   ]
  }
 ],
 "metadata": {
  "kernelspec": {
   "display_name": "env",
   "language": "python",
   "name": "python3"
  },
  "language_info": {
   "codemirror_mode": {
    "name": "ipython",
    "version": 3
   },
   "file_extension": ".py",
   "mimetype": "text/x-python",
   "name": "python",
   "nbconvert_exporter": "python",
   "pygments_lexer": "ipython3",
   "version": "3.10.11"
  }
 },
 "nbformat": 4,
 "nbformat_minor": 5
}
